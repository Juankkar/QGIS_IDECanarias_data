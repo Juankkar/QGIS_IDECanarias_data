{
 "cells": [
  {
   "cell_type": "code",
   "execution_count": 70,
   "metadata": {},
   "outputs": [],
   "source": [
    "import geopandas as gpd\n",
    "import numpy as np\n",
    "import matplotlib.pyplot as plt\n",
    "import pandas as pd\n",
    "import os"
   ]
  },
  {
   "cell_type": "code",
   "execution_count": 2,
   "metadata": {},
   "outputs": [],
   "source": [
    "zonas_protegidas_canarias = gpd.read_file(\"../data/eennpp.shp\")"
   ]
  },
  {
   "cell_type": "code",
   "execution_count": 3,
   "metadata": {},
   "outputs": [
    {
     "data": {
      "text/plain": [
       "<Axes: >"
      ]
     },
     "execution_count": 3,
     "metadata": {},
     "output_type": "execute_result"
    },
    {
     "data": {
      "image/png": "[encoded data removed]",
      "text/plain": [
       "<Figure size 640x480 with 1 Axes>"
      ]
     },
     "metadata": {},
     "output_type": "display_data"
    }
   ],
   "source": [
    "zonas_protegidas_canarias.plot()"
   ]
  },
  {
   "cell_type": "code",
   "execution_count": 4,
   "metadata": {},
   "outputs": [
    {
     "data": {
      "text/html": [
       "<div>\n",
       "<style scoped>\n",
       "    .dataframe tbody tr th:only-of-type {\n",
       "        vertical-align: middle;\n",
       "    }\n",
       "\n",
       "    .dataframe tbody tr th {\n",
       "        vertical-align: top;\n",
       "    }\n",
       "\n",
       "    .dataframe thead th {\n",
       "        text-align: right;\n",
       "    }\n",
       "</style>\n",
       "<table border=\"1\" class=\"dataframe\">\n",
       "  <thead>\n",
       "    <tr style=\"text-align: right;\">\n",
       "      <th></th>\n",
       "      <th>codigo</th>\n",
       "      <th>categoria</th>\n",
       "      <th>nombre</th>\n",
       "      <th>geometry</th>\n",
       "    </tr>\n",
       "  </thead>\n",
       "  <tbody>\n",
       "    <tr>\n",
       "      <th>count</th>\n",
       "      <td>146</td>\n",
       "      <td>146</td>\n",
       "      <td>146</td>\n",
       "      <td>146</td>\n",
       "    </tr>\n",
       "    <tr>\n",
       "      <th>unique</th>\n",
       "      <td>146</td>\n",
       "      <td>8</td>\n",
       "      <td>145</td>\n",
       "      <td>146</td>\n",
       "    </tr>\n",
       "    <tr>\n",
       "      <th>top</th>\n",
       "      <td>H-6</td>\n",
       "      <td>Monumento Natural</td>\n",
       "      <td>El Teide</td>\n",
       "      <td>POLYGON ((207380.29950546904 3077264.52436294,...</td>\n",
       "    </tr>\n",
       "    <tr>\n",
       "      <th>freq</th>\n",
       "      <td>1</td>\n",
       "      <td>52</td>\n",
       "      <td>2</td>\n",
       "      <td>1</td>\n",
       "    </tr>\n",
       "  </tbody>\n",
       "</table>\n",
       "</div>"
      ],
      "text/plain": [
       "       codigo          categoria    nombre  \\\n",
       "count     146                146       146   \n",
       "unique    146                  8       145   \n",
       "top       H-6  Monumento Natural  El Teide   \n",
       "freq        1                 52         2   \n",
       "\n",
       "                                                 geometry  \n",
       "count                                                 146  \n",
       "unique                                                146  \n",
       "top     POLYGON ((207380.29950546904 3077264.52436294,...  \n",
       "freq                                                    1  "
      ]
     },
     "execution_count": 4,
     "metadata": {},
     "output_type": "execute_result"
    }
   ],
   "source": [
    "zonas_protegidas_canarias.describe()"
   ]
  },
  {
   "cell_type": "code",
   "execution_count": 87,
   "metadata": {},
   "outputs": [
    {
     "data": {
      "text/plain": [
       "array(['H-6', 'H-7', 'H-3', 'H-2', 'H-5', 'H-4', 'H-1', 'F-13', 'F-2',\n",
       "       'F-5', 'F-6', 'F-10', 'F-7', 'F-9', 'F-4', 'F-3', 'F-12', 'F-1',\n",
       "       'F-11', 'F-8', 'C-32', 'C-31', 'C-30', 'C-29', 'C-28', 'C-27',\n",
       "       'C-26', 'C-25', 'C-24', 'C-23', 'C-22', 'C-19', 'C-18', 'C-17',\n",
       "       'C-16', 'C-15', 'C-14', 'C-12', 'C-10', 'C-09', 'C-08', 'C-07',\n",
       "       'C-06', 'C-05', 'C-20', 'C-04', 'C-03', 'C-02', 'C-33', 'C-11',\n",
       "       'C-21', 'C-01', 'G-1', 'G-11', 'G-12', 'G-16', 'G-2', 'G-3', 'G-6',\n",
       "       'G-9', 'G-7', 'G-13', 'G-8', 'G-15', 'G-10', 'G-14', 'G-4', 'G-5',\n",
       "       'P-11', 'P-19', 'P-7', 'P-13', 'P-1', 'P-18', 'P-9', 'P-14',\n",
       "       'P-17', 'P-16', 'P-5', 'P-4', 'P-15', 'P-10', 'P-2', 'P-6', 'P-8',\n",
       "       'P-3', 'P-12', 'L-11', 'L-12', 'L-03', 'L-04', 'L-07', 'L-08',\n",
       "       'L-05', 'L-09', 'L-10', 'L-02', 'L-01', 'T-20', 'T-27', 'T-26',\n",
       "       'T-21', 'T-38', 'T-37', 'T-31', 'T-13', 'T-14', 'T-25', 'T-30',\n",
       "       'T-15', 'T-39', 'T-32', 'T-19', 'T-40', 'T-8', 'T-23', 'T-17',\n",
       "       'T-18', 'T-16', 'T-22', 'T-6', 'T-7', 'T-9', 'T-28', 'T-36',\n",
       "       'T-12', 'T-2', 'T-3', 'T-1', 'T-29', 'T-10', 'T-34', 'T-42',\n",
       "       'T-35', 'T-4', 'T-33', 'T-41', 'T-5', 'L-06', 'C-13', 'T-11',\n",
       "       'T-0', 'L-0', 'P-0', 'G-0', 'T-24'], dtype=object)"
      ]
     },
     "execution_count": 87,
     "metadata": {},
     "output_type": "execute_result"
    }
   ],
   "source": [
    "# zonas_protegidas_canarias[\"codigo_nombre\"] = zonas_protegidas_canarias[\"codigo\"] + \" \" + zonas_protegidas_canarias[\"nombre\"]\n",
    "np.array(zonas_protegidas_canarias[\"codigo\"])"
   ]
  },
  {
   "cell_type": "code",
   "execution_count": 85,
   "metadata": {},
   "outputs": [
    {
     "ename": "KeyError",
     "evalue": "'nombre_lugar'",
     "output_type": "error",
     "traceback": [
      "\u001b[1;31m---------------------------------------------------------------------------\u001b[0m",
      "\u001b[1;31mKeyError\u001b[0m                                  Traceback (most recent call last)",
      "File \u001b[1;32m~\\AppData\\Local\\Packages\\PythonSoftwareFoundation.Python.3.12_qbz5n2kfra8p0\\LocalCache\\local-packages\\Python312\\site-packages\\pandas\\core\\indexes\\base.py:3802\u001b[0m, in \u001b[0;36mIndex.get_loc\u001b[1;34m(self, key)\u001b[0m\n\u001b[0;32m   3801\u001b[0m \u001b[38;5;28;01mtry\u001b[39;00m:\n\u001b[1;32m-> 3802\u001b[0m     \u001b[38;5;28;01mreturn\u001b[39;00m \u001b[38;5;28;43mself\u001b[39;49m\u001b[38;5;241;43m.\u001b[39;49m\u001b[43m_engine\u001b[49m\u001b[38;5;241;43m.\u001b[39;49m\u001b[43mget_loc\u001b[49m\u001b[43m(\u001b[49m\u001b[43mcasted_key\u001b[49m\u001b[43m)\u001b[49m\n\u001b[0;32m   3803\u001b[0m \u001b[38;5;28;01mexcept\u001b[39;00m \u001b[38;5;167;01mKeyError\u001b[39;00m \u001b[38;5;28;01mas\u001b[39;00m err:\n",
      "File \u001b[1;32mindex.pyx:153\u001b[0m, in \u001b[0;36mpandas._libs.index.IndexEngine.get_loc\u001b[1;34m()\u001b[0m\n",
      "File \u001b[1;32mindex.pyx:182\u001b[0m, in \u001b[0;36mpandas._libs.index.IndexEngine.get_loc\u001b[1;34m()\u001b[0m\n",
      "File \u001b[1;32mpandas\\\\_libs\\\\hashtable_class_helper.pxi:7081\u001b[0m, in \u001b[0;36mpandas._libs.hashtable.PyObjectHashTable.get_item\u001b[1;34m()\u001b[0m\n",
      "File \u001b[1;32mpandas\\\\_libs\\\\hashtable_class_helper.pxi:7089\u001b[0m, in \u001b[0;36mpandas._libs.hashtable.PyObjectHashTable.get_item\u001b[1;34m()\u001b[0m\n",
      "\u001b[1;31mKeyError\u001b[0m: 'nombre_lugar'",
      "\nThe above exception was the direct cause of the following exception:\n",
      "\u001b[1;31mKeyError\u001b[0m                                  Traceback (most recent call last)",
      "Cell \u001b[1;32mIn[85], line 28\u001b[0m\n\u001b[0;32m      2\u001b[0m gran_canaria_locations \u001b[38;5;241m=\u001b[39m [\n\u001b[0;32m      3\u001b[0m     \u001b[38;5;124m'\u001b[39m\u001b[38;5;124mVentejís\u001b[39m\u001b[38;5;124m'\u001b[39m, \u001b[38;5;124m'\u001b[39m\u001b[38;5;124mTimijiraque\u001b[39m\u001b[38;5;124m'\u001b[39m, \u001b[38;5;124m'\u001b[39m\u001b[38;5;124mTibataje\u001b[39m\u001b[38;5;124m'\u001b[39m, \u001b[38;5;124m'\u001b[39m\u001b[38;5;124mRoques de Salmor\u001b[39m\u001b[38;5;124m'\u001b[39m, \u001b[38;5;124m'\u001b[39m\u001b[38;5;124mLas Playas\u001b[39m\u001b[38;5;124m'\u001b[39m, \u001b[38;5;124m'\u001b[39m\u001b[38;5;124mFrontera\u001b[39m\u001b[38;5;124m'\u001b[39m, \u001b[38;5;124m'\u001b[39m\u001b[38;5;124mMencáfete\u001b[39m\u001b[38;5;124m'\u001b[39m, \n\u001b[0;32m      4\u001b[0m     \u001b[38;5;124m'\u001b[39m\u001b[38;5;124mPlaya del Matorral\u001b[39m\u001b[38;5;124m'\u001b[39m, \u001b[38;5;124m'\u001b[39m\u001b[38;5;124mCorralejo\u001b[39m\u001b[38;5;124m'\u001b[39m, \u001b[38;5;124m'\u001b[39m\u001b[38;5;124mMalpaís de la Arena\u001b[39m\u001b[38;5;124m'\u001b[39m, \u001b[38;5;124m'\u001b[39m\u001b[38;5;124mMontaña de Tindaya\u001b[39m\u001b[38;5;124m'\u001b[39m, \u001b[38;5;124m'\u001b[39m\u001b[38;5;124mAjuí\u001b[39m\u001b[38;5;124m'\u001b[39m, \u001b[38;5;124m'\u001b[39m\u001b[38;5;124mLaCaldera de Gairía\u001b[39m\u001b[38;5;124m'\u001b[39m, \n\u001b[1;32m   (...)\u001b[0m\n\u001b[0;32m     24\u001b[0m     \u001b[38;5;124m'\u001b[39m\u001b[38;5;124mGarajonay\u001b[39m\u001b[38;5;124m'\u001b[39m\n\u001b[0;32m     25\u001b[0m ]\n\u001b[0;32m     27\u001b[0m \u001b[38;5;66;03m# Filtra el GeoDataFrame basándote en la lista de lugares de Gran Canaria\u001b[39;00m\n\u001b[1;32m---> 28\u001b[0m grancanaria_gdf \u001b[38;5;241m=\u001b[39m grancanaria_gdf[\u001b[43mgrancanaria_gdf\u001b[49m\u001b[43m[\u001b[49m\u001b[38;5;124;43m'\u001b[39;49m\u001b[38;5;124;43mnombre_lugar\u001b[39;49m\u001b[38;5;124;43m'\u001b[39;49m\u001b[43m]\u001b[49m\u001b[38;5;241m.\u001b[39misin(gran_canaria_locations)]\n",
      "File \u001b[1;32m~\\AppData\\Local\\Packages\\PythonSoftwareFoundation.Python.3.12_qbz5n2kfra8p0\\LocalCache\\local-packages\\Python312\\site-packages\\geopandas\\geodataframe.py:1474\u001b[0m, in \u001b[0;36mGeoDataFrame.__getitem__\u001b[1;34m(self, key)\u001b[0m\n\u001b[0;32m   1468\u001b[0m \u001b[38;5;28;01mdef\u001b[39;00m \u001b[38;5;21m__getitem__\u001b[39m(\u001b[38;5;28mself\u001b[39m, key):\n\u001b[0;32m   1469\u001b[0m \u001b[38;5;250m    \u001b[39m\u001b[38;5;124;03m\"\"\"\u001b[39;00m\n\u001b[0;32m   1470\u001b[0m \u001b[38;5;124;03m    If the result is a column containing only 'geometry', return a\u001b[39;00m\n\u001b[0;32m   1471\u001b[0m \u001b[38;5;124;03m    GeoSeries. If it's a DataFrame with any columns of GeometryDtype,\u001b[39;00m\n\u001b[0;32m   1472\u001b[0m \u001b[38;5;124;03m    return a GeoDataFrame.\u001b[39;00m\n\u001b[0;32m   1473\u001b[0m \u001b[38;5;124;03m    \"\"\"\u001b[39;00m\n\u001b[1;32m-> 1474\u001b[0m     result \u001b[38;5;241m=\u001b[39m \u001b[38;5;28;43msuper\u001b[39;49m\u001b[43m(\u001b[49m\u001b[43m)\u001b[49m\u001b[38;5;241;43m.\u001b[39;49m\u001b[38;5;21;43m__getitem__\u001b[39;49m\u001b[43m(\u001b[49m\u001b[43mkey\u001b[49m\u001b[43m)\u001b[49m\n\u001b[0;32m   1475\u001b[0m     \u001b[38;5;66;03m# Custom logic to avoid waiting for pandas GH51895\u001b[39;00m\n\u001b[0;32m   1476\u001b[0m     \u001b[38;5;66;03m# result is not geometry dtype for multi-indexes\u001b[39;00m\n\u001b[0;32m   1477\u001b[0m     \u001b[38;5;28;01mif\u001b[39;00m (\n\u001b[0;32m   1478\u001b[0m         pd\u001b[38;5;241m.\u001b[39mapi\u001b[38;5;241m.\u001b[39mtypes\u001b[38;5;241m.\u001b[39mis_scalar(key)\n\u001b[0;32m   1479\u001b[0m         \u001b[38;5;129;01mand\u001b[39;00m key \u001b[38;5;241m==\u001b[39m \u001b[38;5;124m\"\u001b[39m\u001b[38;5;124m\"\u001b[39m\n\u001b[1;32m   (...)\u001b[0m\n\u001b[0;32m   1482\u001b[0m         \u001b[38;5;129;01mand\u001b[39;00m \u001b[38;5;129;01mnot\u001b[39;00m is_geometry_type(result)\n\u001b[0;32m   1483\u001b[0m     ):\n",
      "File \u001b[1;32m~\\AppData\\Local\\Packages\\PythonSoftwareFoundation.Python.3.12_qbz5n2kfra8p0\\LocalCache\\local-packages\\Python312\\site-packages\\pandas\\core\\frame.py:4090\u001b[0m, in \u001b[0;36mDataFrame.__getitem__\u001b[1;34m(self, key)\u001b[0m\n\u001b[0;32m   4088\u001b[0m \u001b[38;5;28;01mif\u001b[39;00m \u001b[38;5;28mself\u001b[39m\u001b[38;5;241m.\u001b[39mcolumns\u001b[38;5;241m.\u001b[39mnlevels \u001b[38;5;241m>\u001b[39m \u001b[38;5;241m1\u001b[39m:\n\u001b[0;32m   4089\u001b[0m     \u001b[38;5;28;01mreturn\u001b[39;00m \u001b[38;5;28mself\u001b[39m\u001b[38;5;241m.\u001b[39m_getitem_multilevel(key)\n\u001b[1;32m-> 4090\u001b[0m indexer \u001b[38;5;241m=\u001b[39m \u001b[38;5;28;43mself\u001b[39;49m\u001b[38;5;241;43m.\u001b[39;49m\u001b[43mcolumns\u001b[49m\u001b[38;5;241;43m.\u001b[39;49m\u001b[43mget_loc\u001b[49m\u001b[43m(\u001b[49m\u001b[43mkey\u001b[49m\u001b[43m)\u001b[49m\n\u001b[0;32m   4091\u001b[0m \u001b[38;5;28;01mif\u001b[39;00m is_integer(indexer):\n\u001b[0;32m   4092\u001b[0m     indexer \u001b[38;5;241m=\u001b[39m [indexer]\n",
      "File \u001b[1;32m~\\AppData\\Local\\Packages\\PythonSoftwareFoundation.Python.3.12_qbz5n2kfra8p0\\LocalCache\\local-packages\\Python312\\site-packages\\pandas\\core\\indexes\\base.py:3809\u001b[0m, in \u001b[0;36mIndex.get_loc\u001b[1;34m(self, key)\u001b[0m\n\u001b[0;32m   3804\u001b[0m     \u001b[38;5;28;01mif\u001b[39;00m \u001b[38;5;28misinstance\u001b[39m(casted_key, \u001b[38;5;28mslice\u001b[39m) \u001b[38;5;129;01mor\u001b[39;00m (\n\u001b[0;32m   3805\u001b[0m         \u001b[38;5;28misinstance\u001b[39m(casted_key, abc\u001b[38;5;241m.\u001b[39mIterable)\n\u001b[0;32m   3806\u001b[0m         \u001b[38;5;129;01mand\u001b[39;00m \u001b[38;5;28many\u001b[39m(\u001b[38;5;28misinstance\u001b[39m(x, \u001b[38;5;28mslice\u001b[39m) \u001b[38;5;28;01mfor\u001b[39;00m x \u001b[38;5;129;01min\u001b[39;00m casted_key)\n\u001b[0;32m   3807\u001b[0m     ):\n\u001b[0;32m   3808\u001b[0m         \u001b[38;5;28;01mraise\u001b[39;00m InvalidIndexError(key)\n\u001b[1;32m-> 3809\u001b[0m     \u001b[38;5;28;01mraise\u001b[39;00m \u001b[38;5;167;01mKeyError\u001b[39;00m(key) \u001b[38;5;28;01mfrom\u001b[39;00m \u001b[38;5;21;01merr\u001b[39;00m\n\u001b[0;32m   3810\u001b[0m \u001b[38;5;28;01mexcept\u001b[39;00m \u001b[38;5;167;01mTypeError\u001b[39;00m:\n\u001b[0;32m   3811\u001b[0m     \u001b[38;5;66;03m# If we have a listlike key, _check_indexing_error will raise\u001b[39;00m\n\u001b[0;32m   3812\u001b[0m     \u001b[38;5;66;03m#  InvalidIndexError. Otherwise we fall through and re-raise\u001b[39;00m\n\u001b[0;32m   3813\u001b[0m     \u001b[38;5;66;03m#  the TypeError.\u001b[39;00m\n\u001b[0;32m   3814\u001b[0m     \u001b[38;5;28mself\u001b[39m\u001b[38;5;241m.\u001b[39m_check_indexing_error(key)\n",
      "\u001b[1;31mKeyError\u001b[0m: 'nombre_lugar'"
     ]
    }
   ],
   "source": [
    "\n"
   ]
  },
  {
   "cell_type": "code",
   "execution_count": 27,
   "metadata": {},
   "outputs": [],
   "source": [
    "prueba = np.repeat(np.arange(1, (len(zonas_protegidas_canarias)//3) + 1), 3)[:len(zonas_protegidas_canarias)]"
   ]
  },
  {
   "cell_type": "code",
   "execution_count": 31,
   "metadata": {},
   "outputs": [
    {
     "data": {
      "text/plain": [
       "array([ 1,  1,  1,  2,  2,  2,  3,  3,  3,  4,  4,  4,  5,  5,  5,  6,  6,\n",
       "        6,  7,  7,  7,  8,  8,  8,  9,  9,  9, 10, 10, 10, 11, 11, 11, 12,\n",
       "       12, 12, 13, 13, 13, 14, 14, 14, 15, 15, 15, 16, 16, 16, 17, 17, 17,\n",
       "       18, 18, 18, 19, 19, 19, 20, 20, 20, 21, 21, 21, 22, 22, 22, 23, 23,\n",
       "       23, 24, 24, 24, 25, 25, 25, 26, 26, 26, 27, 27, 27, 28, 28, 28, 29,\n",
       "       29, 29, 30, 30, 30, 31, 31, 31, 32, 32, 32, 33, 33, 33, 34, 34, 34,\n",
       "       35, 35, 35, 36, 36, 36, 37, 37, 37, 38, 38, 38, 39, 39, 39, 40, 40,\n",
       "       40, 41, 41, 41, 42, 42, 42, 43, 43, 43, 44, 44, 44, 45, 45, 45, 46,\n",
       "       46, 46, 47, 47, 47, 48, 48, 48])"
      ]
     },
     "execution_count": 31,
     "metadata": {},
     "output_type": "execute_result"
    }
   ],
   "source": [
    "# zonas_protegidas_canarias[\"colors\"] = \n",
    "\n",
    "np.add([49, 49])"
   ]
  },
  {
   "cell_type": "code",
   "execution_count": 36,
   "metadata": {},
   "outputs": [],
   "source": [
    "repeat_colors = np.append(prueba, [49,49])"
   ]
  },
  {
   "cell_type": "code",
   "execution_count": 37,
   "metadata": {},
   "outputs": [],
   "source": [
    "zonas_protegidas_canarias[\"colors\"] = repeat_colors"
   ]
  },
  {
   "cell_type": "code",
   "execution_count": 43,
   "metadata": {},
   "outputs": [
    {
     "data": {
      "text/plain": [
       "<Axes: >"
      ]
     },
     "execution_count": 43,
     "metadata": {},
     "output_type": "execute_result"
    },
    {
     "data": {
      "image/png": "[encoded data removed]",
      "text/plain": [
       "<Figure size 640x480 with 2 Axes>"
      ]
     },
     "metadata": {},
     "output_type": "display_data"
    }
   ],
   "source": [
    "zonas_protegidas_canarias.plot(column='colors', cmap='viridis', linewidth=0.8, edgecolor='0.8', legend=True)"
   ]
  },
  {
   "cell_type": "code",
   "execution_count": 110,
   "metadata": {},
   "outputs": [],
   "source": [
    "grancanaria_gdf = zonas_protegidas_canarias[zonas_protegidas_canarias['codigo'].str.startswith(('G', 'C'))]"
   ]
  },
  {
   "cell_type": "code",
   "execution_count": 111,
   "metadata": {},
   "outputs": [],
   "source": [
    "grancanaria_gdf = zonas_protegidas_canarias[grancanaria]"
   ]
  },
  {
   "cell_type": "code",
   "execution_count": 112,
   "metadata": {},
   "outputs": [
    {
     "name": "stdout",
     "output_type": "stream",
     "text": [
      "    codigo                    categoria                   nombre  \\\n",
      "20    C-32  Sitio de Interés Científico       Juncalillo del Sur   \n",
      "21    C-31  Sitio de Interés Científico           Roque de Gando   \n",
      "22    C-30  Sitio de Interés Científico                    Tufia   \n",
      "23    C-29  Sitio de Interés Científico                  Jinámar   \n",
      "24    C-28            Paisaje Protegido       Montaña de Agüimes   \n",
      "25    C-27            Paisaje Protegido                   Fataga   \n",
      "26    C-26            Paisaje Protegido             Lomo Magullo   \n",
      "27    C-25            Paisaje Protegido              Las Cumbres   \n",
      "28    C-24            Paisaje Protegido                   Tafira   \n",
      "29    C-23            Paisaje Protegido               Pino Santo   \n",
      "30    C-22            Paisaje Protegido                La Isleta   \n",
      "31    C-19            Monumento Natural   Barranco de Guayadeque   \n",
      "32    C-18            Monumento Natural                  Arinaga   \n",
      "33    C-17            Monumento Natural                    Tauro   \n",
      "34    C-16            Monumento Natural            Roque Aguayro   \n",
      "35    C-15            Monumento Natural           Montañón Negro   \n",
      "36    C-14            Monumento Natural                  Bandama   \n",
      "37    C-12                 Parque Rural                  Doramas   \n",
      "38    C-10               Parque Natural               Pilancones   \n",
      "39    C-09               Parque Natural                 Tamadaba   \n",
      "40    C-08     Reserva Natural Especial                  Güi-güí   \n",
      "41    C-07     Reserva Natural Especial  Las Dunas de Maspalomas   \n",
      "42    C-06     Reserva Natural Especial             Los Marteles   \n",
      "43    C-05     Reserva Natural Especial        Los Tilos de Moya   \n",
      "44    C-20            Monumento Natural       Riscos de Tirajana   \n",
      "45    C-04     Reserva Natural Especial                   Azuaje   \n",
      "46    C-03     Reserva Natural Especial                El Brezal   \n",
      "47    C-02     Reserva Natural Integral          Barranco Oscuro   \n",
      "48    C-33            Monumento Natural   Barranco del Draguillo   \n",
      "49    C-11                 Parque Rural                    Nublo   \n",
      "50    C-21            Monumento Natural              Roque Nublo   \n",
      "51    C-01     Reserva Natural Integral                   Inagua   \n",
      "52     G-1     Reserva Natural Integral              Benchijigua   \n",
      "53    G-11            Monumento Natural        Lomo del Carretón   \n",
      "54    G-12            Monumento Natural               Los Roques   \n",
      "55    G-16  Sitio de Interés Científico          Charco de Cieno   \n",
      "56     G-2     Reserva Natural Especial               Puntallana   \n",
      "57     G-3               Parque Natural                   Majona   \n",
      "58     G-6            Monumento Natural               Roque Cano   \n",
      "59     G-9            Monumento Natural     Barranco del Cabrito   \n",
      "60     G-7            Monumento Natural             Roque Blanco   \n",
      "61    G-13            Paisaje Protegido                    Orone   \n",
      "62     G-8            Monumento Natural             La Fortaleza   \n",
      "63    G-15  Sitio de Interés Científico         Charco del Conde   \n",
      "64    G-10            Monumento Natural               La Caldera   \n",
      "65    G-14  Sitio de Interés Científico   Acantilados de Alajeró   \n",
      "66     G-4                 Parque Rural        Valle de Gran Rey   \n",
      "67     G-5            Monumento Natural              Los Órganos   \n",
      "139   C-13            Monumento Natural                   Amagro   \n",
      "144    G-0              Parque Nacional                Garajonay   \n",
      "\n",
      "                                              geometry  colors  \n",
      "20   POLYGON ((453679.696 3074570.097, 453669.984 3...       7  \n",
      "21   POLYGON ((464665.536 3090497.440, 464658.994 3...       8  \n",
      "22   POLYGON ((462277.610 3093302.880, 462281.280 3...       8  \n",
      "23   POLYGON ((460256.224 3101297.088, 460260.274 3...       8  \n",
      "24   POLYGON ((458220.295 3087279.345, 458220.210 3...       9  \n",
      "25   POLYGON ((443010.231 3089022.951, 443008.928 3...       9  \n",
      "26   POLYGON ((453333.984 3095407.584, 453336.304 3...       9  \n",
      "27   POLYGON ((438262.130 3104197.936, 438265.920 3...      10  \n",
      "28   POLYGON ((455266.194 3104353.840, 455267.026 3...      10  \n",
      "29   POLYGON ((451272.208 3107643.569, 451285.344 3...      10  \n",
      "30   POLYGON ((458771.094 3117232.532, 458771.267 3...      11  \n",
      "31   POLYGON ((448971.360 3091201.360, 448973.400 3...      11  \n",
      "32   MULTIPOLYGON (((461198.194 3083175.792, 461201...      11  \n",
      "33   POLYGON ((431680.524 3086951.987, 431683.296 3...      12  \n",
      "34   POLYGON ((451724.160 3085793.470, 451727.670 3...      12  \n",
      "35   POLYGON ((438770.784 3102164.576, 438768.340 3...      12  \n",
      "36   POLYGON ((454972.768 3102114.880, 454980.146 3...      13  \n",
      "37   POLYGON ((444287.824 3113306.545, 444289.728 3...      13  \n",
      "38   POLYGON ((441149.682 3089547.752, 441154.408 3...      13  \n",
      "39   POLYGON ((430479.890 3108040.688, 430476.000 3...      14  \n",
      "40   POLYGON ((419233.330 3097103.856, 419228.768 3...      14  \n",
      "41   POLYGON ((443703.620 3069856.150, 443705.872 3...      14  \n",
      "42   POLYGON ((448666.466 3096666.567, 448668.096 3...      15  \n",
      "43   POLYGON ((441378.976 3107781.184, 441376.329 3...      15  \n",
      "44   POLYGON ((443999.731 3093268.623, 443999.500 3...      15  \n",
      "45   POLYGON ((443793.984 3109274.592, 443797.298 3...      16  \n",
      "46   POLYGON ((441523.176 3111392.590, 441523.040 3...      16  \n",
      "47   POLYGON ((441901.006 3105012.102, 441902.410 3...      16  \n",
      "48   POLYGON ((453970.134 3092412.822, 453974.965 3...      17  \n",
      "49   POLYGON ((421366.418 3081344.112, 421365.792 3...      17  \n",
      "50   POLYGON ((440012.658 3095174.576, 440013.568 3...      17  \n",
      "51   POLYGON ((430884.000 3093928.416, 430886.736 3...      18  \n",
      "52   POLYGON ((283433.684 3109000.000, 283432.604 3...      18  \n",
      "53   POLYGON ((273996.462 3117365.316, 273983.199 3...      18  \n",
      "54   POLYGON ((282160.183 3111552.349, 282159.979 3...      19  \n",
      "55   POLYGON ((269248.900 3110416.320, 269249.630 3...      19  \n",
      "56   POLYGON ((292052.560 3114000.000, 292052.060 3...      19  \n",
      "57   POLYGON ((288000.000 3117349.870, 288004.500 3...      20  \n",
      "58   POLYGON ((277924.705 3119356.645, 277940.250 3...      20  \n",
      "59   POLYGON ((288995.890 3106500.000, 288998.660 3...      20  \n",
      "60   POLYGON ((279998.421 3117881.447, 280000.290 3...      21  \n",
      "61   POLYGON ((276375.420 3109945.710, 276381.070 3...      21  \n",
      "62   POLYGON ((276727.124 3110614.332, 276726.454 3...      21  \n",
      "63   POLYGON ((270420.857 3109000.000, 270424.230 3...      22  \n",
      "64   POLYGON ((277028.854 3102141.493, 277031.522 3...      22  \n",
      "65   POLYGON ((279525.660 3101500.000, 279525.070 3...      22  \n",
      "66   MULTIPOLYGON (((273000.000 3113221.961, 273004...      23  \n",
      "67   MULTIPOLYGON (((278182.940 3123104.240, 278187...      23  \n",
      "139  POLYGON ((433908.568 3113131.064, 433915.920 3...      47  \n",
      "144  POLYGON ((284460.012 3113401.321, 284442.011 3...      49  \n"
     ]
    }
   ],
   "source": [
    "print(pd.DataFrame(grancanaria_gdf))"
   ]
  },
  {
   "cell_type": "code",
   "execution_count": 127,
   "metadata": {},
   "outputs": [
    {
     "name": "stderr",
     "output_type": "stream",
     "text": [
      "C:\\Users\\jcge9\\AppData\\Local\\Temp\\ipykernel_9808\\1881975623.py:6: UserWarning: The GeoDataFrame you are attempting to plot is empty. Nothing has been displayed.\n",
      "  grancanaria_gdf_filtered.plot()\n"
     ]
    },
    {
     "data": {
      "image/png": "[encoded data removed]",
      "text/plain": [
       "<Figure size 1000x1000 with 1 Axes>"
      ]
     },
     "metadata": {},
     "output_type": "display_data"
    },
    {
     "data": {
      "image/png": "[encoded data removed]",
      "text/plain": [
       "<Figure size 640x480 with 1 Axes>"
      ]
     },
     "metadata": {},
     "output_type": "display_data"
    }
   ],
   "source": [
    "grancanaria_gdf_filtered = grancanaria_gdf[grancanaria_gdf['geometry'].geom_type == 'Point']\n",
    "grancanaria_gdf_filtered = grancanaria_gdf_filtered[grancanaria_gdf_filtered['geometry'].x > 400000]\n",
    "\n",
    "# Plot the filtered GeoDataFrame\n",
    "fig, ax = plt.subplots(1, 1, figsize=(10, 10))\n",
    "grancanaria_gdf_filtered.plot()\n",
    "ax.set_axis_off()\n"
   ]
  },
  {
   "cell_type": "code",
   "execution_count": 132,
   "metadata": {},
   "outputs": [
    {
     "data": {
      "text/html": [
       "<div>\n",
       "<style scoped>\n",
       "    .dataframe tbody tr th:only-of-type {\n",
       "        vertical-align: middle;\n",
       "    }\n",
       "\n",
       "    .dataframe tbody tr th {\n",
       "        vertical-align: top;\n",
       "    }\n",
       "\n",
       "    .dataframe thead th {\n",
       "        text-align: right;\n",
       "    }\n",
       "</style>\n",
       "<table border=\"1\" class=\"dataframe\">\n",
       "  <thead>\n",
       "    <tr style=\"text-align: right;\">\n",
       "      <th></th>\n",
       "    </tr>\n",
       "  </thead>\n",
       "  <tbody>\n",
       "  </tbody>\n",
       "</table>\n",
       "</div>"
      ],
      "text/plain": [
       "Empty DataFrame\n",
       "Columns: []\n",
       "Index: []"
      ]
     },
     "execution_count": 132,
     "metadata": {},
     "output_type": "execute_result"
    }
   ],
   "source": [
    "grancanaria_gdf_filtered[grancanaria_gdf_filtered['geometry']]"
   ]
  },
  {
   "cell_type": "code",
   "execution_count": null,
   "metadata": {},
   "outputs": [],
   "source": []
  }
 ],
 "metadata": {
  "kernelspec": {
   "display_name": "Python 3",
   "language": "python",
   "name": "python3"
  },
  "language_info": {
   "codemirror_mode": {
    "name": "ipython",
    "version": 3
   },
   "file_extension": ".py",
   "mimetype": "text/x-python",
   "name": "python",
   "nbconvert_exporter": "python",
   "pygments_lexer": "ipython3",
   "version": "3.12.1"
  }
 },
 "nbformat": 4,
 "nbformat_minor": 2
}
